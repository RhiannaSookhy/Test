{
 "cells": [
  {
   "cell_type": "markdown",
   "id": "30d9df1c",
   "metadata": {},
   "source": [
    "# Theme Impact of refugee crisis on Women's Health"
   ]
  },
  {
   "cell_type": "markdown",
   "id": "81d5e11c",
   "metadata": {},
   "source": [
    "## Data Collection and Web Scraping"
   ]
  },
  {
   "cell_type": "code",
   "execution_count": null,
   "id": "7cb256b7",
   "metadata": {},
   "outputs": [],
   "source": []
  }
 ],
 "metadata": {
  "kernelspec": {
   "display_name": "Python 3 (ipykernel)",
   "language": "python",
   "name": "python3"
  },
  "language_info": {
   "codemirror_mode": {
    "name": "ipython",
    "version": 3
   },
   "file_extension": ".py",
   "mimetype": "text/x-python",
   "name": "python",
   "nbconvert_exporter": "python",
   "pygments_lexer": "ipython3",
   "version": "3.11.5"
  }
 },
 "nbformat": 4,
 "nbformat_minor": 5
}
